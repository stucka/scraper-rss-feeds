{
 "cells": [
  {
   "cell_type": "code",
   "execution_count": 3,
   "id": "edbbc57c",
   "metadata": {},
   "outputs": [],
   "source": [
    "from pyquery import PyQuery as pq\n",
    "\n",
    "import csv\n",
    "from glob import glob\n",
    "import os"
   ]
  },
  {
   "cell_type": "code",
   "execution_count": 19,
   "id": "d93dc1d4",
   "metadata": {},
   "outputs": [],
   "source": [
    "# multibyline example: https://web.archive.org/web/20240105220102/https://themessenger.com/politics/trump-florida-judge-cannon-nauta-deoliveira-hearing-potential-conflicts-woodward\n",
    "\n",
    "authorlist = []\n",
    "for filename in glob(\"author/*\"):\n",
    "    with open(filename, \"rb\") as infile:\n",
    "        html = infile.read()\n",
    "        for storyitem in pq(html)(\"li.pt-4\"):\n",
    "            line = {}\n",
    "            line['bylines'] = pq(pq(storyitem)(\"div.text-xs\")[1]).text()\n",
    "            line['archiveurl'] = \"https://archive.org\" + pq(pq(storyitem)(\"a\")[0]).attr(\"href\")\n",
    "            line['headline'] = pq(pq(pq(storyitem)(\"div.basis-full\")[0])(\"span\")[0]).text()\n",
    "            line['context'] = pq(pq(pq(storyitem)(\"div.font-body\")[0])(\"p\")[0]).text()\n",
    "            authorlist.append(line)"
   ]
  },
  {
   "cell_type": "code",
   "execution_count": 21,
   "id": "baa1c999",
   "metadata": {},
   "outputs": [],
   "source": [
    "with open(\"author-report.csv\", \"w\", newline=\"\", encoding=\"utf-8\") as outfile:\n",
    "    writer = csv.writer(outfile)\n",
    "    writer.writerow(list(authorlist[0].keys()))\n",
    "    for row in authorlist:\n",
    "        writer.writerow(list(row.values()))"
   ]
  },
  {
   "cell_type": "code",
   "execution_count": null,
   "id": "920ef520",
   "metadata": {},
   "outputs": [],
   "source": []
  }
 ],
 "metadata": {
  "kernelspec": {
   "display_name": "Python 3 (ipykernel)",
   "language": "python",
   "name": "python3"
  },
  "language_info": {
   "codemirror_mode": {
    "name": "ipython",
    "version": 3
   },
   "file_extension": ".py",
   "mimetype": "text/x-python",
   "name": "python",
   "nbconvert_exporter": "python",
   "pygments_lexer": "ipython3",
   "version": "3.10.6"
  }
 },
 "nbformat": 4,
 "nbformat_minor": 5
}
