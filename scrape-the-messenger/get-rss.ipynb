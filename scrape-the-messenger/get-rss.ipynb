{
 "cells": [
  {
   "cell_type": "code",
   "execution_count": 7,
   "id": "d5e3b696",
   "metadata": {},
   "outputs": [],
   "source": [
    "from tqdm import tqdm\n",
    "\n",
    "import os"
   ]
  },
  {
   "cell_type": "code",
   "execution_count": 8,
   "id": "30998c18",
   "metadata": {},
   "outputs": [],
   "source": [
    "rssdir = \"rss/\"\n",
    "\n",
    "for localdir in [rssdir]:\n",
    "    os.makedirs(localdir, exist_ok=True)"
   ]
  },
  {
   "cell_type": "code",
   "execution_count": 9,
   "id": "9f69e353",
   "metadata": {},
   "outputs": [],
   "source": [
    "with open(\"rss-to-do.txt\", \"w\", newline=\"\") as outfile:\n",
    "    for pageindex in range(0, 6500):\n",
    "        targeturl = f\"https://cms.themessenger.com/feed?paged={pageindex}\"\n",
    "        targetfile = f\"{rssdir}{pageindex}\"\n",
    "        if not os.path.exists(targetfile):\n",
    "            outfile.write(targeturl + \"\\r\\n\")\n",
    "            outfile.write(f\"\\t\\tout={targetfile}\\r\\n\")"
   ]
  },
  {
   "cell_type": "code",
   "execution_count": null,
   "id": "bdf34949",
   "metadata": {},
   "outputs": [],
   "source": []
  }
 ],
 "metadata": {
  "kernelspec": {
   "display_name": "Python 3 (ipykernel)",
   "language": "python",
   "name": "python3"
  },
  "language_info": {
   "codemirror_mode": {
    "name": "ipython",
    "version": 3
   },
   "file_extension": ".py",
   "mimetype": "text/x-python",
   "name": "python",
   "nbconvert_exporter": "python",
   "pygments_lexer": "ipython3",
   "version": "3.10.6"
  }
 },
 "nbformat": 4,
 "nbformat_minor": 5
}
