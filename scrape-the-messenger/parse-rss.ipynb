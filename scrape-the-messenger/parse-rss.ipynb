{
 "cells": [
  {
   "cell_type": "code",
   "execution_count": 67,
   "id": "cfbab0a4",
   "metadata": {},
   "outputs": [],
   "source": [
    "from pyquery import PyQuery as pq\n",
    "\n",
    "import csv\n",
    "import datetime\n",
    "from glob import glob"
   ]
  },
  {
   "cell_type": "code",
   "execution_count": 77,
   "id": "3bf83609",
   "metadata": {},
   "outputs": [],
   "source": [
    "rssdir = \"rss/\"\n",
    "masterlist = []\n",
    "for rssfile in glob(rssdir + \"*\"):\n",
    "    indexfile = rssfile.replace(rssdir, \"\").replace(rssdir.replace('/', '\\\\'), '')\n",
    "    with open(rssfile, \"rb\") as infile:\n",
    "        html = infile.read()\n",
    "        for item in pq(html)(\"item\"):\n",
    "            line = {}\n",
    "            line[\"rssindex\"] = indexfile\n",
    "            authors = []\n",
    "            for au in pq(item)(\"dc\\:creator\"):\n",
    "                authors.append(pq(au).text().strip())\n",
    "            line[\"authors\"] = \"|\".join(authors)\n",
    "            line['title'] = pq(pq(item)(\"title\")).text().strip()\n",
    "            line['introtext'] = pq(pq(pq(item)(\"description\"))[0]).html()\n",
    "            line['good-date'] = \"\"\n",
    "            line['original-date'] = pq(pq(item).html().replace(\"pubDate\", \"pubdate\"))(\"pubdate\").text()\n",
    "            line[\"good-date\"] = datetime.datetime.strptime(line['original-date'], \"%a, %d %b %Y %H:%M:%S %z\")\n",
    "            line[\"good-date\"] = datetime.datetime.strftime(line['good-date'], \"%Y-%m-%d %H%M%S%z\")    \n",
    "            line[\"maybe-archive\"] = \"https://web.archive.org/web/*/\"\n",
    "            line[\"maybe-archive\"] += pq(pq(item)(\"link\")).text().replace(\"https://cms.\", \"\").replace(\"https://www.\", \"\")    \n",
    "            line['original-link'] = pq(pq(item)(\"link\")).text()\n",
    "            categories = []\n",
    "            for cat in pq(item)(\"category\"):\n",
    "                categories.append(pq(cat).text())\n",
    "            line['categories'] = '|'.join(categories)\n",
    "            masterlist.append(line)"
   ]
  },
  {
   "cell_type": "code",
   "execution_count": 79,
   "id": "26a30080",
   "metadata": {},
   "outputs": [],
   "source": [
    "with open(\"the-messenger-rss-index.csv\", \"w\", newline=\"\", encoding=\"utf-8\") as outfile:\n",
    "    writer = csv.writer(outfile)\n",
    "    writer.writerow(list(masterlist[0].keys()))\n",
    "    for row in sorted(masterlist, key=lambda d: d['good-date'], reverse=True):\n",
    "        writer.writerow(list(row.values()))"
   ]
  },
  {
   "cell_type": "code",
   "execution_count": null,
   "id": "771b395c",
   "metadata": {},
   "outputs": [],
   "source": []
  }
 ],
 "metadata": {
  "kernelspec": {
   "display_name": "Python 3 (ipykernel)",
   "language": "python",
   "name": "python3"
  },
  "language_info": {
   "codemirror_mode": {
    "name": "ipython",
    "version": 3
   },
   "file_extension": ".py",
   "mimetype": "text/x-python",
   "name": "python",
   "nbconvert_exporter": "python",
   "pygments_lexer": "ipython3",
   "version": "3.10.6"
  }
 },
 "nbformat": 4,
 "nbformat_minor": 5
}
