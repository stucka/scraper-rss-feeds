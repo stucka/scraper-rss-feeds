{
 "cells": [
  {
   "cell_type": "code",
   "execution_count": 6,
   "id": "cfbab0a4",
   "metadata": {},
   "outputs": [],
   "source": [
    "from pyquery import PyQuery as pq\n",
    "from tqdm import tqdm\n",
    "\n",
    "import csv\n",
    "import datetime\n",
    "from glob import glob\n",
    "import sys"
   ]
  },
  {
   "cell_type": "code",
   "execution_count": 7,
   "id": "3bf83609",
   "metadata": {},
   "outputs": [
    {
     "name": "stderr",
     "output_type": "stream",
     "text": [
      "100%|██████████████████████████████████████████████████████████████████████████████| 6625/6625 [02:15<00:00, 49.07it/s]\n"
     ]
    }
   ],
   "source": [
    "rssdir = \"rss/\"\n",
    "masterlist = []\n",
    "for rssfile in tqdm(glob(rssdir + \"*\")):\n",
    "    if \".aria2\" not in rssfile:   # Skip stuff still downloading\n",
    "        indexfile = rssfile.replace(rssdir, \"\").replace(rssdir.replace('/', '\\\\'), '')\n",
    "        with open(rssfile, \"rb\") as infile:\n",
    "            html = infile.read()\n",
    "            for item in pq(html)(\"item\"):\n",
    "                line = {}\n",
    "                line[\"rssindex\"] = indexfile\n",
    "                authors = []\n",
    "                for au in pq(item)(\"dc\\:creator\"):\n",
    "                    authors.append(pq(au).text().strip())\n",
    "                line[\"authors\"] = \"|\".join(authors)\n",
    "                line['title'] = pq(pq(item)(\"title\")).text().strip()\n",
    "                line['introtext'] = pq(pq(pq(item)(\"description\"))[0]).html()\n",
    "                line['good-date'] = \"\"\n",
    "                line['original-date'] = pq(pq(item).html().replace(\"pubDate\", \"pubdate\"))(\"pubdate\").text()\n",
    "                # Tue, 25 Aug 2020 11:38:02 GMT\n",
    "                line[\"good-date\"] = datetime.datetime.strptime(line['original-date'], \"%a, %d %b %Y %H:%M:%S +0000\")\n",
    "                line[\"good-date\"] = datetime.datetime.strftime(line['good-date'], \"%Y-%m-%d %H%M%S\")    \n",
    "                line[\"maybe-archive\"] = \"https://web.archive.org/web/*/\"\n",
    "                line[\"maybe-archive\"] += pq(pq(item)(\"link\")).text().replace(\"https://cms.\", \"\").replace(\"https://www.\", \"\")    \n",
    "                line['original-link'] = pq(pq(item)(\"link\")).text()\n",
    "                categories = []\n",
    "                for cat in pq(item)(\"category\"):\n",
    "                    categories.append(pq(cat).text())\n",
    "                line['categories'] = '|'.join(categories)\n",
    "                masterlist.append(line)"
   ]
  },
  {
   "cell_type": "code",
   "execution_count": 10,
   "id": "93f4a802",
   "metadata": {},
   "outputs": [],
   "source": [
    "masterlist = sorted(masterlist, key=lambda d: d['good-date'], reverse=True)\n"
   ]
  },
  {
   "cell_type": "code",
   "execution_count": 11,
   "id": "52a10e61",
   "metadata": {},
   "outputs": [],
   "source": [
    "with open(\"dcist-rss-index.csv\", \"w\", newline=\"\", encoding=\"utf-8\") as outfile:\n",
    "    writer = csv.writer(outfile)\n",
    "    writer.writerow(list(masterlist[0].keys()))\n",
    "    for row in sorted(masterlist, key=lambda d: d['good-date'], reverse=True):\n",
    "        writer.writerow(list(row.values()))"
   ]
  },
  {
   "cell_type": "code",
   "execution_count": 13,
   "id": "8d774b1a",
   "metadata": {},
   "outputs": [],
   "source": [
    "authorindex = {}\n",
    "for row in masterlist:\n",
    "    for author in row['authors'].split(\"|\"):\n",
    "        if author not in authorindex:\n",
    "            authorindex[author] = 0\n",
    "        authorindex[author] += 1"
   ]
  },
  {
   "cell_type": "code",
   "execution_count": 14,
   "id": "646760df",
   "metadata": {},
   "outputs": [],
   "source": [
    "with open(\"author-index.csv\", \"w\", newline=\"\", encoding=\"utf-8\") as outfile:\n",
    "    writer = csv.writer(outfile)\n",
    "    writer.writerow([\"author\", \"storycount\"])\n",
    "    for author in sorted(authorindex):\n",
    "        storycount = authorindex[author]\n",
    "        writer.writerow([author, storycount])"
   ]
  },
  {
   "cell_type": "code",
   "execution_count": null,
   "id": "447c83b3",
   "metadata": {},
   "outputs": [],
   "source": []
  }
 ],
 "metadata": {
  "kernelspec": {
   "display_name": "Python 3 (ipykernel)",
   "language": "python",
   "name": "python3"
  },
  "language_info": {
   "codemirror_mode": {
    "name": "ipython",
    "version": 3
   },
   "file_extension": ".py",
   "mimetype": "text/x-python",
   "name": "python",
   "nbconvert_exporter": "python",
   "pygments_lexer": "ipython3",
   "version": "3.10.6"
  }
 },
 "nbformat": 4,
 "nbformat_minor": 5
}
