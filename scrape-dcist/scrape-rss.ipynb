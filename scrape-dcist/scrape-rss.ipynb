{
 "cells": [
  {
   "cell_type": "code",
   "execution_count": 3,
   "id": "c4dfcc99",
   "metadata": {},
   "outputs": [],
   "source": [
    "import requests\n",
    "from tqdm import tqdm\n",
    "\n",
    "import os"
   ]
  },
  {
   "cell_type": "code",
   "execution_count": 4,
   "id": "e39c9eab",
   "metadata": {},
   "outputs": [],
   "source": [
    "rssdir = \"rss/\"\n",
    "\n",
    "for localdir in [rssdir]:\n",
    "    os.makedirs(rssdir, exist_ok=True)"
   ]
  },
  {
   "cell_type": "raw",
   "id": "8bc1a48b",
   "metadata": {},
   "source": [
    "# Requests is too slow, 5 hours to run\n",
    "\n",
    "for pageid in tqdm(range(1, 31155 +1)):\n",
    "    targetfilename = f\"{rssdir}{pageid}\"\n",
    "    if not os.path.exists(targetfilename):\n",
    "        targeturl = f\"https://www.vice.com/en/rss/?page={pageid}\"\n",
    "        r = requests.get(targeturl)\n",
    "        if not r.ok:\n",
    "            print(f\"Error fetching page {pageid}\")\n",
    "        else:\n",
    "            with open(targetfilename, \"wb\") as outfile:\n",
    "                outfile.write(r.content)"
   ]
  },
  {
   "cell_type": "code",
   "execution_count": 5,
   "id": "a1c120e5",
   "metadata": {},
   "outputs": [
    {
     "name": "stderr",
     "output_type": "stream",
     "text": [
      "100%|███████████████████████████████████████████████████████████████████████████| 6800/6800 [00:00<00:00, 27905.18it/s]\n"
     ]
    }
   ],
   "source": [
    "with open(\"rss-to-do.txt\", \"w\", newline=\"\") as outfile:\n",
    "    for pageid in tqdm(range(1, 6800+1)):\n",
    "        targetfilename = f\"{rssdir}{pageid}\"\n",
    "        if not os.path.exists(targetfilename):\n",
    "            targeturl = f\"https://dcist.com/feed/?paged={pageid}\"\n",
    "            outfile.write(targeturl + \"\\r\\n\")\n",
    "            outfile.write(f\"\\t\\tout={targetfilename}\\r\\n\")"
   ]
  },
  {
   "cell_type": "code",
   "execution_count": null,
   "id": "9024792b",
   "metadata": {},
   "outputs": [],
   "source": []
  }
 ],
 "metadata": {
  "kernelspec": {
   "display_name": "Python 3 (ipykernel)",
   "language": "python",
   "name": "python3"
  },
  "language_info": {
   "codemirror_mode": {
    "name": "ipython",
    "version": 3
   },
   "file_extension": ".py",
   "mimetype": "text/x-python",
   "name": "python",
   "nbconvert_exporter": "python",
   "pygments_lexer": "ipython3",
   "version": "3.10.6"
  }
 },
 "nbformat": 4,
 "nbformat_minor": 5
}
